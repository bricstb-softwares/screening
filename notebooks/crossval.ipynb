{
 "cells": [
  {
   "cell_type": "code",
   "execution_count": 1,
   "id": "a5e7f2d8-1330-4954-a866-86ea9360ac90",
   "metadata": {},
   "outputs": [],
   "source": [
    "%config InlineBackend.figure_format = 'retina'\n",
    "%load_ext autoreload\n",
    "%autoreload 2"
   ]
  },
  {
   "cell_type": "code",
   "execution_count": 7,
   "id": "d476fde3-8041-4303-9f4b-aff1cd78cc88",
   "metadata": {},
   "outputs": [],
   "source": [
    "from screening.validation import crossval_table\n",
    "import collections\n",
    "from pprint import pprint"
   ]
  },
  {
   "cell_type": "code",
   "execution_count": 8,
   "id": "afe8270a-172d-42af-b6a2-bdf925e79cd9",
   "metadata": {},
   "outputs": [],
   "source": [
    "\n",
    "def gen_keys( dirname, label='' ):\n",
    "\n",
    "    keys = ['sp_index','fa','sensitivity', 'specificity', 'precision', 'recall', 'acc', \n",
    "            'true_negative', 'true_positive', 'false_negative', 'false_positive',\n",
    "            'sp_max', 'auc']\n",
    "\n",
    "    d = collections.OrderedDict()\n",
    "    for key in keys:\n",
    "        d[f\"{key}{label}\"] = f\"{dirname}/{key}{label}\"\n",
    "    return d  \n",
    "  \n",
    "cv_config  = gen_keys('summary')\n",
    "cv_config.update( gen_keys('summary', \"_val\") )\n",
    "cv_config.update( gen_keys('summary', \"_test\") )\n",
    "\n",
    "cv_config.update( gen_keys('summary', \"_test\") )\n",
    "cv_config.update( gen_keys('summary', \"_test\") )\n",
    "cv_config.update( gen_keys('summary', \"_test\") )"
   ]
  },
  {
   "cell_type": "code",
   "execution_count": 9,
   "id": "85d1674b-8815-4f94-af48-0cf72191e334",
   "metadata": {},
   "outputs": [
    {
     "name": "stdout",
     "output_type": "stream",
     "text": [
      "OrderedDict([('sp_index', 'summary/sp_index'),\n",
      "             ('fa', 'summary/fa'),\n",
      "             ('sensitivity', 'summary/sensitivity'),\n",
      "             ('specificity', 'summary/specificity'),\n",
      "             ('precision', 'summary/precision'),\n",
      "             ('recall', 'summary/recall'),\n",
      "             ('acc', 'summary/acc'),\n",
      "             ('true_negative', 'summary/true_negative'),\n",
      "             ('true_positive', 'summary/true_positive'),\n",
      "             ('false_negative', 'summary/false_negative'),\n",
      "             ('false_positive', 'summary/false_positive'),\n",
      "             ('sp_max', 'summary/sp_max'),\n",
      "             ('auc', 'summary/auc'),\n",
      "             ('sp_index_val', 'summary/sp_index_val'),\n",
      "             ('fa_val', 'summary/fa_val'),\n",
      "             ('sensitivity_val', 'summary/sensitivity_val'),\n",
      "             ('specificity_val', 'summary/specificity_val'),\n",
      "             ('precision_val', 'summary/precision_val'),\n",
      "             ('recall_val', 'summary/recall_val'),\n",
      "             ('acc_val', 'summary/acc_val'),\n",
      "             ('true_negative_val', 'summary/true_negative_val'),\n",
      "             ('true_positive_val', 'summary/true_positive_val'),\n",
      "             ('false_negative_val', 'summary/false_negative_val'),\n",
      "             ('false_positive_val', 'summary/false_positive_val'),\n",
      "             ('sp_max_val', 'summary/sp_max_val'),\n",
      "             ('auc_val', 'summary/auc_val'),\n",
      "             ('sp_index_test', 'summary/sp_index_test'),\n",
      "             ('fa_test', 'summary/fa_test'),\n",
      "             ('sensitivity_test', 'summary/sensitivity_test'),\n",
      "             ('specificity_test', 'summary/specificity_test'),\n",
      "             ('precision_test', 'summary/precision_test'),\n",
      "             ('recall_test', 'summary/recall_test'),\n",
      "             ('acc_test', 'summary/acc_test'),\n",
      "             ('true_negative_test', 'summary/true_negative_test'),\n",
      "             ('true_positive_test', 'summary/true_positive_test'),\n",
      "             ('false_negative_test', 'summary/false_negative_test'),\n",
      "             ('false_positive_test', 'summary/false_positive_test'),\n",
      "             ('sp_max_test', 'summary/sp_max_test'),\n",
      "             ('auc_test', 'summary/auc_test')])\n"
     ]
    }
   ],
   "source": [
    "pprint(cv_config)"
   ]
  },
  {
   "cell_type": "code",
   "execution_count": 10,
   "id": "d46c7ca4-4487-4b98-b3f6-85fe2088a818",
   "metadata": {},
   "outputs": [],
   "source": [
    "cv = crossval_table( cv_config )"
   ]
  },
  {
   "cell_type": "code",
   "execution_count": 13,
   "id": "b4618511-25ed-4937-bb19-1acd18d30491",
   "metadata": {},
   "outputs": [
    {
     "name": "stderr",
     "output_type": "stream",
     "text": [
      "\u001b[32m2024-01-04 19:40:39.981\u001b[0m | \u001b[1mINFO    \u001b[0m | \u001b[36mscreening.validation.crossval\u001b[0m:\u001b[36mfill\u001b[0m:\u001b[36m99\u001b[0m - \u001b[1mReading file for baseline tag from /mnt/brics_data/models//task.philipp.gaspar.convnets.baseline.989f87bed5\u001b[0m\n",
      "\u001b[32m2024-01-04 19:40:39.982\u001b[0m | \u001b[1mINFO    \u001b[0m | \u001b[36mscreening.validation.crossval\u001b[0m:\u001b[36mfill\u001b[0m:\u001b[36m110\u001b[0m - \u001b[1mThere are 90 files for this task...\u001b[0m\n",
      "\u001b[32m2024-01-04 19:40:39.982\u001b[0m | \u001b[1mINFO    \u001b[0m | \u001b[36mscreening.validation.crossval\u001b[0m:\u001b[36mfill\u001b[0m:\u001b[36m111\u001b[0m - \u001b[1mFilling the table... \u001b[0m\n",
      "Reading baseline...: 100%|████████████████████████████████████| 90/90 [00:13<00:00,  6.60it/s]\n",
      "\u001b[32m2024-01-04 19:40:53.666\u001b[0m | \u001b[1mINFO    \u001b[0m | \u001b[36mscreening.validation.crossval\u001b[0m:\u001b[36mfill\u001b[0m:\u001b[36m143\u001b[0m - \u001b[1mEnd of fill step, a pandas DataFrame was created...\u001b[0m\n"
     ]
    }
   ],
   "source": [
    "basepath = '/mnt/brics_data/models/'\n",
    "\n",
    "cv.fill(basepath+'/task.philipp.gaspar.convnets.baseline.989f87bed5', 'baseline')"
   ]
  },
  {
   "cell_type": "code",
   "execution_count": 15,
   "id": "0939b0d3-8ddb-49ec-a205-d09de1f8c822",
   "metadata": {},
   "outputs": [
    {
     "data": {
      "text/plain": [
       "0.9792103219223695"
      ]
     },
     "execution_count": 15,
     "metadata": {},
     "output_type": "execute_result"
    }
   ],
   "source": [
    "cv.table.sp_index.max()"
   ]
  },
  {
   "cell_type": "code",
   "execution_count": null,
   "id": "3b699e76-ab4d-4f41-a80d-24f8f3cc90df",
   "metadata": {},
   "outputs": [],
   "source": []
  }
 ],
 "metadata": {
  "kernelspec": {
   "display_name": "Python 3 (ipykernel)",
   "language": "python",
   "name": "python3"
  },
  "language_info": {
   "codemirror_mode": {
    "name": "ipython",
    "version": 3
   },
   "file_extension": ".py",
   "mimetype": "text/x-python",
   "name": "python",
   "nbconvert_exporter": "python",
   "pygments_lexer": "ipython3",
   "version": "3.8.10"
  }
 },
 "nbformat": 4,
 "nbformat_minor": 5
}
