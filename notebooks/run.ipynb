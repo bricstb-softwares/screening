{
 "cells": [
  {
   "cell_type": "markdown",
   "metadata": {},
   "source": [
    "# Operação do modelo\n",
    "\n",
    "Este notebook apresenta um exemplo de como um modelo salvo no MLFlow pode ser aplicado em um dado dataset do DOROTHY."
   ]
  },
  {
   "cell_type": "code",
   "execution_count": null,
   "metadata": {},
   "outputs": [],
   "source": [
    "import matplotlib.pyplot as plt\n",
    "import seaborn as sns\n",
    "import lpsds.notebook\n",
    "from scripts.operation import ProductionModelOperation"
   ]
  },
  {
   "cell_type": "markdown",
   "metadata": {},
   "source": [
    "## Dados de entrada\n",
    "\n",
    "Para a correta operação do modelo, se fazem necessárias as seguintes informações, que precisam ser fornecidas tais como especificadas abaixo.\n",
    "\n",
    "* URL para o servior do MLFLOW (https://mlflow.lps.ufrj.br ou http://localhost:5000, por exemplo): esta URL deve estr definida numa variável de ambiente chamada \"MLFLOW_TRACKING_URI\"\n",
    "* RUN ID do modelo: o run id do modelo de operação salvo no MLFlow. O modelo deve estar salvo numa pasta chamada \"operation_model\" no MLFlow.\n",
    "* Dataset do DOROTHY: o nome do dataset a ser solicitado ao DOROTHY para que usas imagens sejam fornecidas ao classificador.\n",
    "\n",
    "Neste exemplo, como estamos oeprando via notebbok, emularemos a passagem do run id do modelo e do dataset através das variáveis \"validation_dataset_name\"  e \"mlflow_run_id\".\n",
    "\n",
    "Com respeito à saída do modelo, a mesma deve ser colocada na pasta /bucket/output da sua imagem Docker. A entrega do modelo deve ser sempre um pandas.DataFrame, salvo como parquet, contendo pelo menos 4 colunas:\n",
    "\n",
    "* Nome do arquivo da imagem (identificador único)\n",
    "* y_proba: o valor de saída modelo\n",
    "* y_pred: a decisão do modelo (+1 p/ TB+ e 0 para TB-)\n",
    "\n",
    "O nome do arquivo dese ser no formato {dataset_name}-output.parquet. Por exemplo, supondo a operação do modelo em imagens de um dataset chamado \"china\", o arquivo de saída deverá ser salvo em \"/bucket/output/china-output.parque\""
   ]
  },
  {
   "cell_type": "code",
   "execution_count": null,
   "metadata": {},
   "outputs": [],
   "source": [
    "device_type = 'gpu'\n",
    "validation_dataset_name =  'china'\n",
    "mlflow_run_id = 'bd6019f44da0472b8c444d9e83c7ac50'\n",
    "operate = ProductionModelOperation(device_type=device_type)"
   ]
  },
  {
   "cell_type": "markdown",
   "metadata": {},
   "source": [
    "## Carregando o dataset de validação"
   ]
  },
  {
   "cell_type": "code",
   "execution_count": null,
   "metadata": {},
   "outputs": [],
   "source": [
    "X, metadata = operate.get_dataset_images(validation_dataset_name)"
   ]
  },
  {
   "cell_type": "markdown",
   "metadata": {},
   "source": [
    "## Carregando o modelo armazenado no MLFlow"
   ]
  },
  {
   "cell_type": "code",
   "execution_count": null,
   "metadata": {},
   "outputs": [],
   "source": [
    "model, decision_threshold = operate.get_operation_model(mlflow_run_id)"
   ]
  },
  {
   "cell_type": "markdown",
   "metadata": {},
   "source": [
    "## Aplicando as imagens do dataset passado no modelo especificado"
   ]
  },
  {
   "cell_type": "code",
   "execution_count": null,
   "metadata": {},
   "outputs": [],
   "source": [
    "y_proba, y_pred = operate.operate_model(model, X, decision_threshold)"
   ]
  },
  {
   "cell_type": "code",
   "execution_count": null,
   "metadata": {},
   "outputs": [],
   "source": [
    "plt.figure()\n",
    "fig, axs = plt.subplots(2,1)\n",
    "sns.histplot(data=y_proba, ax=axs[0])\n",
    "axs[0].set_title('Distribuição da Saída do Modelo');\n",
    "\n",
    "sns.histplot(data=y_pred, ax=axs[1])\n",
    "axs[1].set_title('Distribuição da Decisão do Modelo');"
   ]
  },
  {
   "cell_type": "markdown",
   "metadata": {},
   "source": [
    "### Salvando o resultado"
   ]
  },
  {
   "cell_type": "code",
   "execution_count": null,
   "metadata": {},
   "outputs": [],
   "source": [
    "\n",
    "operate.save_results('/bucket/temp/model', metadata, y_proba, y_pred)"
   ]
  },
  {
   "cell_type": "markdown",
   "metadata": {},
   "source": [
    "## Calculando as estatísticas de execução"
   ]
  },
  {
   "cell_type": "code",
   "execution_count": null,
   "metadata": {},
   "outputs": [],
   "source": [
    "time_df = operate.get_processing_stats(model, X)"
   ]
  },
  {
   "cell_type": "markdown",
   "metadata": {},
   "source": [
    "### Salvando o resultado"
   ]
  },
  {
   "cell_type": "code",
   "execution_count": null,
   "metadata": {},
   "outputs": [],
   "source": [
    "operate.save_results('/bucket/temp/model-stats', metadata, y_proba, y_pred)"
   ]
  }
 ],
 "metadata": {
  "kernelspec": {
   "display_name": "Python 3.9.12 ('base')",
   "language": "python",
   "name": "python3"
  },
  "language_info": {
   "codemirror_mode": {
    "name": "ipython",
    "version": 3
   },
   "file_extension": ".py",
   "mimetype": "text/x-python",
   "name": "python",
   "nbconvert_exporter": "python",
   "pygments_lexer": "ipython3",
   "version": "3.8.10"
  },
  "orig_nbformat": 4,
  "vscode": {
   "interpreter": {
    "hash": "d4d1e4263499bec80672ea0156c357c1ee493ec2b1c70f0acce89fc37c4a6abe"
   }
  }
 },
 "nbformat": 4,
 "nbformat_minor": 2
}
