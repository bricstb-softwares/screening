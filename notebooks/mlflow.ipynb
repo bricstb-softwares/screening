{
 "cells": [
  {
   "attachments": {},
   "cell_type": "markdown",
   "metadata": {},
   "source": [
    "# Adicionando um _Run_ Salvo ao MLFlow"
   ]
  },
  {
   "cell_type": "code",
   "execution_count": null,
   "metadata": {},
   "outputs": [],
   "source": [
    "from utils.mlflow_run import log_run\n",
    "run_path = '/bucket/models/PhilCNN/v1'\n",
    "log_run(run_path)"
   ]
  },
  {
   "attachments": {},
   "cell_type": "markdown",
   "metadata": {},
   "source": [
    "## Falzendo alguns testes (Phil, vc pode ignorar tudo daqui pra baixo...)"
   ]
  },
  {
   "cell_type": "code",
   "execution_count": null,
   "metadata": {},
   "outputs": [],
   "source": [
    "import mlflow\n",
    "from utils.mlflow_run import MLFlow\n",
    "import matplotlib.pyplot as plt\n",
    "import seaborn as sns\n",
    "import lpsds.notebook\n",
    "from scripts.operation import ProductionModelOperation\n",
    "from dorothy_sdk.dataset_wrapper import Dataset"
   ]
  },
  {
   "cell_type": "code",
   "execution_count": null,
   "metadata": {},
   "outputs": [],
   "source": [
    "exp_name = 'Debug'\n",
    "test_fold = 0\n",
    "mlflow.set_experiment(exp_name)\n",
    "mlflow.start_run()\n",
    "\n",
    "run = MLFlow(run_path)\n",
    "metrics = run.save_metrics()\n",
    "test_sort = int(metrics.iloc[test_fold].sort)"
   ]
  },
  {
   "cell_type": "code",
   "execution_count": null,
   "metadata": {},
   "outputs": [],
   "source": [
    "output = run.save_models_outputs(metrics)\n",
    "output.drop(index=output.loc[output.fold != test_fold].index, inplace=True)\n",
    "output.rename(columns={'y_true' : 'y_true_out'}, inplace=True)"
   ]
  },
  {
   "cell_type": "code",
   "execution_count": null,
   "metadata": {},
   "outputs": [],
   "source": [
    "ds = Dataset('china').load_metadata()\n",
    "ds = ds.merge(output, how='inner', on='image')\n",
    "ds.rename(columns={'image_local_path' : 'path', 'y_true' : 'label'}, inplace=True)"
   ]
  },
  {
   "cell_type": "code",
   "execution_count": null,
   "metadata": {},
   "outputs": [],
   "source": [
    "op = ProductionModelOperation('gpu')\n",
    "X, _ = Dataset.load_from_file(ds, 'path', 'label')\n",
    "X = op.prepare_images(X)"
   ]
  },
  {
   "cell_type": "code",
   "execution_count": null,
   "metadata": {},
   "outputs": [],
   "source": [
    "model = run.load_model(test_fold, test_sort)\n",
    "ds['y_proba_op'] = model.predict(X).flatten()"
   ]
  },
  {
   "cell_type": "code",
   "execution_count": null,
   "metadata": {},
   "outputs": [],
   "source": [
    "plt.figure()\n",
    "sns.histplot(data=ds, x='y_proba_op')"
   ]
  },
  {
   "cell_type": "code",
   "execution_count": null,
   "metadata": {},
   "outputs": [],
   "source": [
    "plt.figure()\n",
    "sns.scatterplot(data=ds, x='y_proba', y='y_proba_op')\n",
    "plt.title('Scatterplot entre o Modelo Treinado e de Operação')\n",
    "plt.xlabel('Modelo treinado (referência)')\n",
    "plt.ylabel('Modelo de operação')\n",
    "plt.grid()"
   ]
  }
 ],
 "metadata": {
  "kernelspec": {
   "display_name": "Python 3",
   "language": "python",
   "name": "python3"
  },
  "language_info": {
   "codemirror_mode": {
    "name": "ipython",
    "version": 3
   },
   "file_extension": ".py",
   "mimetype": "text/x-python",
   "name": "python",
   "nbconvert_exporter": "python",
   "pygments_lexer": "ipython3",
   "version": "3.8.10"
  },
  "orig_nbformat": 4
 },
 "nbformat": 4,
 "nbformat_minor": 2
}
