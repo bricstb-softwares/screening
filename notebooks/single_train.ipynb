{
 "cells": [
  {
   "attachments": {},
   "cell_type": "markdown",
   "metadata": {},
   "source": [
    "# Teste de Treino Avulso\n",
    "\n",
    "Objetivo testar se as abstrações criadas permitem o treinamento de um modelo a partir de um dataframe de treino, validação e hiperparâmetros"
   ]
  },
  {
   "cell_type": "code",
   "execution_count": null,
   "metadata": {},
   "outputs": [],
   "source": [
    "import json\n",
    "import pandas as pd\n",
    "import numpy as np\n",
    "import matplotlib.pyplot as plt\n",
    "import seaborn as sns\n",
    "import lpsds.notebook\n",
    "import tensorflow as tf\n",
    "from tensorflow import keras\n",
    "from tensorflow.image import grayscale_to_rgb\n",
    "from sklearn.model_selection import train_test_split\n",
    "import dorothy_sdk.dataset_wrapper as dw\n",
    "from scripts.operation import ProductionModelOperation\n",
    "\n",
    "dataset = 'china'\n",
    "rand_state = 20\n",
    "device_type = 'gpu'"
   ]
  },
  {
   "attachments": {},
   "cell_type": "markdown",
   "metadata": {},
   "source": [
    "## Caregando os dados a serem usados no treino"
   ]
  },
  {
   "cell_type": "code",
   "execution_count": null,
   "metadata": {},
   "outputs": [],
   "source": [
    "ds = dw.Dataset(dataset)\n",
    "df = ds.load_metadata()\n",
    "\n",
    "trn_df, val_df = train_test_split(df, test_size=0.2, shuffle=True, random_state=rand_state)\n",
    "\n",
    "trn_df.to_parquet('/bucket/input/trn.parquet')\n",
    "val_df.to_parquet('/bucket/input/val.parquet')"
   ]
  },
  {
   "attachments": {},
   "cell_type": "markdown",
   "metadata": {},
   "source": [
    "## Treinando"
   ]
  },
  {
   "cell_type": "code",
   "execution_count": null,
   "metadata": {},
   "outputs": [],
   "source": [
    "hyperparams = {\n",
    "    'epochs' : 10,\n",
    "    'batch_size' : 32,\n",
    "    'learning_rate' : 0.01,\n",
    "}\n",
    "with open('/bucket/input/config.json', 'w') as f:\n",
    "    json.dump(hyperparams, f)"
   ]
  },
  {
   "cell_type": "code",
   "execution_count": null,
   "metadata": {},
   "outputs": [],
   "source": [
    "op = ProductionModelOperation(device_type=device_type)\n",
    "model = op.train_model(trn_df, val_df, **hyperparams)\n",
    "model_path = '/bucket/output/models/debugdir'\n",
    "decision_threshold = 0.6\n",
    "op.save_model(model, model_path, threshold=decision_threshold);"
   ]
  },
  {
   "attachments": {},
   "cell_type": "markdown",
   "metadata": {},
   "source": [
    "## Teste de operação"
   ]
  },
  {
   "cell_type": "code",
   "execution_count": null,
   "metadata": {},
   "outputs": [],
   "source": [
    "X_np, y_true = dw.Dataset.load_from_file(df)\n",
    "X = np.expand_dims(X_np, axis=3)\n",
    "X = grayscale_to_rgb(tf.constant(X))"
   ]
  },
  {
   "cell_type": "code",
   "execution_count": null,
   "metadata": {},
   "outputs": [],
   "source": [
    "y_proba = model.predict(X)"
   ]
  },
  {
   "cell_type": "code",
   "execution_count": null,
   "metadata": {},
   "outputs": [],
   "source": [
    "op2 = ProductionModelOperation(device_type=device_type)\n",
    "model2, threshold = op2.load_model(model_path)\n",
    "y_proba_2, _ = op2.operate_model(model2, X_np, threshold)"
   ]
  },
  {
   "cell_type": "code",
   "execution_count": null,
   "metadata": {},
   "outputs": [],
   "source": [
    "scat_df = pd.DataFrame({'trained' : y_proba.flatten(), 'loaded' : y_proba_2.flatten()})\n",
    "plt.figure()\n",
    "sns.scatterplot(data=scat_df, x='trained', y='loaded')\n",
    "plt.title('Scatterplot entre o Modelo Treinado e de Operação')\n",
    "plt.xlabel('Modelo treinado (referência)')\n",
    "plt.ylabel('Modelo de operação')\n",
    "plt.grid()"
   ]
  }
 ],
 "metadata": {
  "kernelspec": {
   "display_name": "base",
   "language": "python",
   "name": "python3"
  },
  "language_info": {
   "codemirror_mode": {
    "name": "ipython",
    "version": 3
   },
   "file_extension": ".py",
   "mimetype": "text/x-python",
   "name": "python",
   "nbconvert_exporter": "python",
   "pygments_lexer": "ipython3",
   "version": "3.8.10"
  },
  "orig_nbformat": 4,
  "vscode": {
   "interpreter": {
    "hash": "d4d1e4263499bec80672ea0156c357c1ee493ec2b1c70f0acce89fc37c4a6abe"
   }
  }
 },
 "nbformat": 4,
 "nbformat_minor": 2
}
