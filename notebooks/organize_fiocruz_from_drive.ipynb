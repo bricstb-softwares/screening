{
 "cells": [
  {
   "cell_type": "code",
   "execution_count": 1,
   "id": "a4017417-4f45-478d-9dd7-ba4b156e4337",
   "metadata": {},
   "outputs": [],
   "source": [
    "from expand_folders import expand_folders\n",
    "import os"
   ]
  },
  {
   "cell_type": "code",
   "execution_count": 7,
   "id": "eeb0e842-fdc1-4919-b2de-46c8f3efd426",
   "metadata": {},
   "outputs": [],
   "source": [
    "import pandas as pd\n",
    "df = pd.read_excel('/mnt/brics_data/datasets/Rio/fiocruz/raw/report_28_01_2024.xlsx')"
   ]
  },
  {
   "cell_type": "code",
   "execution_count": 8,
   "id": "7d99557e-41f2-4093-8789-9a5315aaa9a5",
   "metadata": {},
   "outputs": [
    {
     "data": {
      "text/html": [
       "<div>\n",
       "<style scoped>\n",
       "    .dataframe tbody tr th:only-of-type {\n",
       "        vertical-align: middle;\n",
       "    }\n",
       "\n",
       "    .dataframe tbody tr th {\n",
       "        vertical-align: top;\n",
       "    }\n",
       "\n",
       "    .dataframe thead th {\n",
       "        text-align: right;\n",
       "    }\n",
       "</style>\n",
       "<table border=\"1\" class=\"dataframe\">\n",
       "  <thead>\n",
       "    <tr style=\"text-align: right;\">\n",
       "      <th></th>\n",
       "      <th>Codigo MS</th>\n",
       "      <th>conf bact</th>\n",
       "      <th>crit diag</th>\n",
       "    </tr>\n",
       "  </thead>\n",
       "  <tbody>\n",
       "    <tr>\n",
       "      <th>0</th>\n",
       "      <td>74</td>\n",
       "      <td>S</td>\n",
       "      <td>BAC</td>\n",
       "    </tr>\n",
       "    <tr>\n",
       "      <th>1</th>\n",
       "      <td>83</td>\n",
       "      <td>S</td>\n",
       "      <td>BAC</td>\n",
       "    </tr>\n",
       "    <tr>\n",
       "      <th>2</th>\n",
       "      <td>89</td>\n",
       "      <td>S</td>\n",
       "      <td>BAC</td>\n",
       "    </tr>\n",
       "    <tr>\n",
       "      <th>3</th>\n",
       "      <td>91</td>\n",
       "      <td>S</td>\n",
       "      <td>BAC</td>\n",
       "    </tr>\n",
       "    <tr>\n",
       "      <th>4</th>\n",
       "      <td>103</td>\n",
       "      <td>S</td>\n",
       "      <td>BAC</td>\n",
       "    </tr>\n",
       "  </tbody>\n",
       "</table>\n",
       "</div>"
      ],
      "text/plain": [
       "  Codigo MS conf bact crit diag\n",
       "0        74         S       BAC\n",
       "1        83         S       BAC\n",
       "2        89         S       BAC\n",
       "3        91         S       BAC\n",
       "4       103         S       BAC"
      ]
     },
     "execution_count": 8,
     "metadata": {},
     "output_type": "execute_result"
    }
   ],
   "source": [
    "df.head()"
   ]
  },
  {
   "cell_type": "code",
   "execution_count": 30,
   "id": "579c3c09-bde6-4349-9df5-38c48623461b",
   "metadata": {},
   "outputs": [],
   "source": [
    "d= {'dataset_name':[], 'project_id':[], 'image_path':[], 'target':[], 'metadata':[], 'insertion_date':[]}\n",
    "\n",
    "#,dataset_name,project_id,image_path,insertion_date,metadata,target\n",
    "\n",
    "for path in expand_folders(\"/mnt/brics_data/datasets/Rio/fiocruz/raw/images/*.jpg\"):\n",
    "    #print(path)\n",
    "    project_id = path.split('/')[-1].replace('.jpg','')\n",
    "    id_number = project_id.split('_')[1]\n",
    "\n",
    "    result = df.loc[df[\"Codigo MS\"]==int(id_number)]['crit diag'].values\n",
    "    if len(result)==0:\n",
    "        target=0\n",
    "    elif result[0]=='BAC':\n",
    "        target=1\n",
    "    else:\n",
    "        target=0\n",
    "    #print(id_number + \"  ->  \"+result.values[0])\n",
    "\n",
    "    d['dataset_name'].append('fiocruz')\n",
    "    d['project_id'].append(project_id)\n",
    "    d['image_path'].append('images'+path.split('images')[-1])\n",
    "    d['target'].append( target )\n",
    "    d['metadata'].append({})\n",
    "    d['insertion_date'].append('')\n",
    "\n",
    "d=pd.DataFrame(d)"
   ]
  },
  {
   "cell_type": "code",
   "execution_count": 32,
   "id": "da6cee62-4eaf-46bb-9784-5dbe1f6e33bb",
   "metadata": {},
   "outputs": [
    {
     "data": {
      "text/html": [
       "<div>\n",
       "<style scoped>\n",
       "    .dataframe tbody tr th:only-of-type {\n",
       "        vertical-align: middle;\n",
       "    }\n",
       "\n",
       "    .dataframe tbody tr th {\n",
       "        vertical-align: top;\n",
       "    }\n",
       "\n",
       "    .dataframe thead th {\n",
       "        text-align: right;\n",
       "    }\n",
       "</style>\n",
       "<table border=\"1\" class=\"dataframe\">\n",
       "  <thead>\n",
       "    <tr style=\"text-align: right;\">\n",
       "      <th></th>\n",
       "      <th>dataset_name</th>\n",
       "      <th>project_id</th>\n",
       "      <th>image_path</th>\n",
       "      <th>target</th>\n",
       "      <th>metadata</th>\n",
       "      <th>insertion_date</th>\n",
       "    </tr>\n",
       "  </thead>\n",
       "  <tbody>\n",
       "    <tr>\n",
       "      <th>0</th>\n",
       "      <td>fiocruz</td>\n",
       "      <td>MS_1023_26.03</td>\n",
       "      <td>images/MS_1023_26.03.jpg</td>\n",
       "      <td>0</td>\n",
       "      <td>{}</td>\n",
       "      <td></td>\n",
       "    </tr>\n",
       "    <tr>\n",
       "      <th>1</th>\n",
       "      <td>fiocruz</td>\n",
       "      <td>MS_1033_26.03</td>\n",
       "      <td>images/MS_1033_26.03.jpg</td>\n",
       "      <td>0</td>\n",
       "      <td>{}</td>\n",
       "      <td></td>\n",
       "    </tr>\n",
       "    <tr>\n",
       "      <th>2</th>\n",
       "      <td>fiocruz</td>\n",
       "      <td>MS_725_26.03</td>\n",
       "      <td>images/MS_725_26.03.jpg</td>\n",
       "      <td>0</td>\n",
       "      <td>{}</td>\n",
       "      <td></td>\n",
       "    </tr>\n",
       "    <tr>\n",
       "      <th>3</th>\n",
       "      <td>fiocruz</td>\n",
       "      <td>MS_1026_26.03</td>\n",
       "      <td>images/MS_1026_26.03.jpg</td>\n",
       "      <td>0</td>\n",
       "      <td>{}</td>\n",
       "      <td></td>\n",
       "    </tr>\n",
       "    <tr>\n",
       "      <th>4</th>\n",
       "      <td>fiocruz</td>\n",
       "      <td>MS_1018_02.04</td>\n",
       "      <td>images/MS_1018_02.04.jpg</td>\n",
       "      <td>1</td>\n",
       "      <td>{}</td>\n",
       "      <td></td>\n",
       "    </tr>\n",
       "  </tbody>\n",
       "</table>\n",
       "</div>"
      ],
      "text/plain": [
       "  dataset_name     project_id                image_path  target metadata  \\\n",
       "0      fiocruz  MS_1023_26.03  images/MS_1023_26.03.jpg       0       {}   \n",
       "1      fiocruz  MS_1033_26.03  images/MS_1033_26.03.jpg       0       {}   \n",
       "2      fiocruz   MS_725_26.03   images/MS_725_26.03.jpg       0       {}   \n",
       "3      fiocruz  MS_1026_26.03  images/MS_1026_26.03.jpg       0       {}   \n",
       "4      fiocruz  MS_1018_02.04  images/MS_1018_02.04.jpg       1       {}   \n",
       "\n",
       "  insertion_date  \n",
       "0                 \n",
       "1                 \n",
       "2                 \n",
       "3                 \n",
       "4                 "
      ]
     },
     "execution_count": 32,
     "metadata": {},
     "output_type": "execute_result"
    }
   ],
   "source": [
    "d.head()"
   ]
  },
  {
   "cell_type": "code",
   "execution_count": 33,
   "id": "484e123a-88a8-437a-a800-38109b3032f9",
   "metadata": {},
   "outputs": [],
   "source": [
    "d.to_csv(\"Rio_fiocruz_table_from_raw.csv\")"
   ]
  },
  {
   "cell_type": "code",
   "execution_count": 36,
   "id": "478b06c3-3b2c-4684-a538-197b2652c7a1",
   "metadata": {},
   "outputs": [
    {
     "data": {
      "text/plain": [
       "(417, 6)"
      ]
     },
     "execution_count": 36,
     "metadata": {},
     "output_type": "execute_result"
    }
   ],
   "source": [
    "d.loc[d.target==0].shape"
   ]
  },
  {
   "cell_type": "code",
   "execution_count": 37,
   "id": "34cd1ea5-8c26-4464-8e6c-9c730ecb080a",
   "metadata": {},
   "outputs": [
    {
     "name": "stdout",
     "output_type": "stream",
     "text": [
      "bins selected for val: [1, 2, 3, 4, 5, 6, 7, 8, 9]\n"
     ]
    },
    {
     "name": "stderr",
     "output_type": "stream",
     "text": [
      "100%|██████████████████████████████████████████████████████████████████████████████████████████████████████| 9/9 [00:00<00:00, 5716.04it/s]\n"
     ]
    },
    {
     "name": "stdout",
     "output_type": "stream",
     "text": [
      "bins selected for val: [0, 2, 3, 4, 5, 6, 7, 8, 9]\n"
     ]
    },
    {
     "name": "stderr",
     "output_type": "stream",
     "text": [
      "100%|██████████████████████████████████████████████████████████████████████████████████████████████████████| 9/9 [00:00<00:00, 6500.56it/s]\n"
     ]
    },
    {
     "name": "stdout",
     "output_type": "stream",
     "text": [
      "bins selected for val: [0, 1, 3, 4, 5, 6, 7, 8, 9]\n"
     ]
    },
    {
     "name": "stderr",
     "output_type": "stream",
     "text": [
      "100%|██████████████████████████████████████████████████████████████████████████████████████████████████████| 9/9 [00:00<00:00, 7108.99it/s]\n"
     ]
    },
    {
     "name": "stdout",
     "output_type": "stream",
     "text": [
      "bins selected for val: [0, 1, 2, 4, 5, 6, 7, 8, 9]\n"
     ]
    },
    {
     "name": "stderr",
     "output_type": "stream",
     "text": [
      "100%|██████████████████████████████████████████████████████████████████████████████████████████████████████| 9/9 [00:00<00:00, 8905.10it/s]\n"
     ]
    },
    {
     "name": "stdout",
     "output_type": "stream",
     "text": [
      "bins selected for val: [0, 1, 2, 3, 5, 6, 7, 8, 9]\n"
     ]
    },
    {
     "name": "stderr",
     "output_type": "stream",
     "text": [
      "100%|██████████████████████████████████████████████████████████████████████████████████████████████████████| 9/9 [00:00<00:00, 6342.19it/s]\n"
     ]
    },
    {
     "name": "stdout",
     "output_type": "stream",
     "text": [
      "bins selected for val: [0, 1, 2, 3, 4, 6, 7, 8, 9]\n"
     ]
    },
    {
     "name": "stderr",
     "output_type": "stream",
     "text": [
      "100%|██████████████████████████████████████████████████████████████████████████████████████████████████████| 9/9 [00:00<00:00, 5761.41it/s]\n"
     ]
    },
    {
     "name": "stdout",
     "output_type": "stream",
     "text": [
      "bins selected for val: [0, 1, 2, 3, 4, 5, 7, 8, 9]\n"
     ]
    },
    {
     "name": "stderr",
     "output_type": "stream",
     "text": [
      "100%|██████████████████████████████████████████████████████████████████████████████████████████████████████| 9/9 [00:00<00:00, 6294.60it/s]\n"
     ]
    },
    {
     "name": "stdout",
     "output_type": "stream",
     "text": [
      "bins selected for val: [0, 1, 2, 3, 4, 5, 6, 8, 9]\n"
     ]
    },
    {
     "name": "stderr",
     "output_type": "stream",
     "text": [
      "100%|██████████████████████████████████████████████████████████████████████████████████████████████████████| 9/9 [00:00<00:00, 6021.49it/s]\n"
     ]
    },
    {
     "name": "stdout",
     "output_type": "stream",
     "text": [
      "bins selected for val: [0, 1, 2, 3, 4, 5, 6, 7, 9]\n"
     ]
    },
    {
     "name": "stderr",
     "output_type": "stream",
     "text": [
      "100%|██████████████████████████████████████████████████████████████████████████████████████████████████████| 9/9 [00:00<00:00, 9674.20it/s]\n"
     ]
    },
    {
     "name": "stdout",
     "output_type": "stream",
     "text": [
      "bins selected for val: [0, 1, 2, 3, 4, 5, 6, 7, 8]\n"
     ]
    },
    {
     "name": "stderr",
     "output_type": "stream",
     "text": [
      "100%|█████████████████████████████████████████████████████████████████████████████████████████████████████| 9/9 [00:00<00:00, 10161.17it/s]\n"
     ]
    }
   ],
   "source": [
    "import pickle\n",
    "import numpy as np\n",
    "from itertools import compress\n",
    "\n",
    "from sklearn.model_selection import StratifiedKFold\n",
    "from tqdm import tqdm\n",
    "\n",
    "def stratified_train_val_test_splits(df, n_folds,seed=512):\n",
    "    cv_index = {'train_val': [], 'test': []}\n",
    "    cv_train_test = StratifiedKFold(n_splits=n_folds, shuffle=True, random_state=seed)\n",
    "    sorts_train_test = []\n",
    "    for train_val_idx, test_idx in cv_train_test.split(df.values, df.target.values):\n",
    "        cv_index['test'].append(test_idx)\n",
    "        cv_index['train_val'].append(train_val_idx)\n",
    "    fold_idx = set(np.arange(0, n_folds, 1))\n",
    "    for fold in fold_idx:\n",
    "        val_idx = list(fold_idx - set([fold]))\n",
    "        print('bins selected for val: ' + str(val_idx))\n",
    "        sorts = []\n",
    "        for i in tqdm(val_idx):\n",
    "            l_val_idx = cv_index['test'][i]\n",
    "            flt = ~pd.Series(cv_index['train_val'][fold]).isin(l_val_idx).values\n",
    "            l_train_idx = np.array(list(compress(cv_index['train_val'][fold], flt)))\n",
    "            sorts.append((l_train_idx, l_val_idx, cv_index['test'][fold]))\n",
    "        sorts_train_test.append(sorts)\n",
    "    return sorts_train_test\n",
    "\n",
    "with open('splits.pic','wb') as f:\n",
    "    splits = stratified_train_val_test_splits(d,10,512)\n",
    "    pickle.dump(splits,f)"
   ]
  },
  {
   "cell_type": "code",
   "execution_count": null,
   "id": "19fbbd67-4503-49d8-b4b6-ff8ff0228068",
   "metadata": {},
   "outputs": [],
   "source": []
  },
  {
   "cell_type": "code",
   "execution_count": null,
   "id": "d19a04d3-f57d-41fb-82cb-ff95bf431210",
   "metadata": {},
   "outputs": [],
   "source": []
  }
 ],
 "metadata": {
  "kernelspec": {
   "display_name": "Python 3 (ipykernel)",
   "language": "python",
   "name": "python3"
  },
  "language_info": {
   "codemirror_mode": {
    "name": "ipython",
    "version": 3
   },
   "file_extension": ".py",
   "mimetype": "text/x-python",
   "name": "python",
   "nbconvert_exporter": "python",
   "pygments_lexer": "ipython3",
   "version": "3.8.10"
  }
 },
 "nbformat": 4,
 "nbformat_minor": 5
}
